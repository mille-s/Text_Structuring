{
  "cells": [
    {
      "cell_type": "markdown",
      "metadata": {
        "id": "view-in-github",
        "colab_type": "text"
      },
      "source": [
        "<a href=\"https://colab.research.google.com/github/mille-s/Text_Structuring/blob/main/MaltOptimizer.ipynb\" target=\"_parent\"><img src=\"https://colab.research.google.com/assets/colab-badge.svg\" alt=\"Open In Colab\"/></a>"
      ]
    },
    {
      "cell_type": "markdown",
      "metadata": {
        "id": "0IvCLrg87VCQ"
      },
      "source": [
        "# MaltOptimizer"
      ]
    },
    {
      "cell_type": "code",
      "execution_count": null,
      "metadata": {
        "cellView": "form",
        "colab": {
          "base_uri": "https://localhost:8080/"
        },
        "id": "pB37WKrATmoy",
        "outputId": "1632f1c6-b65a-4788-9636-923a52a4dd81"
      },
      "outputs": [
        {
          "output_type": "stream",
          "name": "stdout",
          "text": [
            "-----------------------------------------------------------------------------\n",
            "                          MaltParser 1.9.2                             \n",
            "-----------------------------------------------------------------------------\n",
            "         MALT (Models and Algorithms for Language Technology) Group          \n",
            "             Vaxjo University and Uppsala University                         \n",
            "                             Sweden                                          \n",
            "-----------------------------------------------------------------------------\n",
            "\n",
            "Usage: \n",
            "   java -jar maltparser-1.9.2.jar -f <path to option file> <options>\n",
            "   java -jar maltparser-1.9.2.jar -h for more help and options\n",
            "\n",
            "help                  (  -h) : Show options                                 \n",
            "-----------------------------------------------------------------------------\n",
            "option_file           (  -f) : Path to option file                          \n",
            "-----------------------------------------------------------------------------\n",
            "verbosity            *(  -v) : Verbosity level                              \n",
            "  debug      - Logging of debugging messages\n",
            "  error      - Logging of error events\n",
            "  fatal      - Logging of very severe error events\n",
            "  info       - Logging of informational messages\n",
            "  off        - Logging turned off  \n",
            "  warn       - Logging of harmful situations\n",
            "-----------------------------------------------------------------------------\n",
            "\n",
            "Documentation: docs/index.html\n",
            "-----------------------------------------------------------------------------\n",
            "                   MaltOptimizer 1.0\n",
            "-----------------------------------------------------------------------------\n",
            "         Miguel Ballesteros* and Joakim Nivre**\n",
            "\n",
            "          *Complutense University of Madrid (Spain)  \n",
            "                **Uppsala University (Sweden)   \n",
            "-----------------------------------------------------------------------------\n",
            "Usage:\n",
            "java -jar MaltOptimizer.jar -p <phase number> -m <path to MaltParser> -c <path to training corpus> [-v <validation method>]\n",
            "java -jar malt.jar -h for more help and options\n"
          ]
        }
      ],
      "source": [
        "#@title Prepare repo\n",
        "from IPython.display import clear_output\n",
        "import os\n",
        "\n",
        "# Download and unzip MaltParser code from my gmail drive My Drive/M-FleNS/Parsing\n",
        "# Local files in C:\\Users\\sfmil\\OneDrive\\Desktop\\DCU\\Papers\\2024-05_Fluency-improvements\\TextPlanning\\parsing\n",
        "# The version of Maltparser I use has paths changed in the options.conllx file, so as to find the local Colab feats files for liblinear/conllu\n",
        "! gdown 14iRdWjzmzl5QJkEaNE8mukpJxaa3i614\n",
        "! unzip /content/maltparser-1.9.2.zip\n",
        "\n",
        "# Download and unzip MaltOptimizer\n",
        "! gdown 1F3WHHAvO35FMSROaWFf38cSUWHYcL-Z6\n",
        "! unzip /content/MaltOptimizer-1.0.3.zip -d '/content'\n",
        "\n",
        "# Install converter for Python 2 to Python 3\n",
        "! pip install modernize\n",
        "\n",
        "clear_output()\n",
        "\n",
        "path_maltParser = '/content/maltparser-1.9.2/maltparser-1.9.2.jar'\n",
        "path_maltOptim = '/content/MaltOptimizer-1.0.3/MaltOptimizer.jar'\n",
        "\n",
        "! java -jar {path_maltParser}\n",
        "! java -jar {path_maltOptim}"
      ]
    },
    {
      "cell_type": "code",
      "source": [
        "#@title Mount drive\n",
        "from google.colab import drive\n",
        "drive.mount('/content/drive', force_remount=True)\n",
        "\n",
        "mflens_local_data_folder = '/content/Text_Structuring/data'\n",
        "if not os.path.exists(mflens_local_data_folder):\n",
        "  os.makedirs(mflens_local_data_folder)\n",
        "\n",
        "mflens_data_folder = '/content/drive/MyDrive/M-FleNS/Papers-Slides/M-FleNS_papers/2024-05_Fluency_Improvements/Parsing4'"
      ],
      "metadata": {
        "colab": {
          "base_uri": "https://localhost:8080/"
        },
        "cellView": "form",
        "id": "pfM-OS9HXpdk",
        "outputId": "b3f06df4-b177-4695-b4a9-9aceaefa93c7"
      },
      "execution_count": null,
      "outputs": [
        {
          "output_type": "stream",
          "name": "stdout",
          "text": [
            "Mounted at /content/drive\n"
          ]
        }
      ]
    },
    {
      "cell_type": "code",
      "source": [
        "#@title Copy all files and folders to root, convert Py2 code\n",
        "import glob\n",
        "import os\n",
        "from IPython.display import clear_output\n",
        "\n",
        "files_maltOpt = glob.glob(os.path.join('/content/MaltOptimizer-1.0.3', '*.*'))\n",
        "files_lib = glob.glob(os.path.join('/content/MaltOptimizer-1.0.3/lib', '*.*'))\n",
        "files_alg = glob.glob(os.path.join('/content/MaltOptimizer-1.0.3/src/algorithmTester', '*.*'))\n",
        "files_exp = glob.glob(os.path.join('/content/MaltOptimizer-1.0.3/src/experiments', '*.*'))\n",
        "files_gui = glob.glob(os.path.join('/content/MaltOptimizer-1.0.3/src/gui', '*.*'))\n",
        "files_opt = glob.glob(os.path.join('/content/MaltOptimizer-1.0.3/src/optimizer', '*.*'))\n",
        "\n",
        "def makeFolderAndCopy(file_list, dest_path):\n",
        "  if not os.path.exists(dest_path):\n",
        "    os.makedirs(dest_path)\n",
        "  for file in file_list:\n",
        "    ! cp {file} {dest_path}\n",
        "\n",
        "makeFolderAndCopy(files_maltOpt, '/content')\n",
        "makeFolderAndCopy(files_lib, '/content/lib')\n",
        "makeFolderAndCopy(files_alg, '/content/src/algorithmTester')\n",
        "makeFolderAndCopy(files_exp, '/content/src/experiments')\n",
        "makeFolderAndCopy(files_gui, '/content/src/gui')\n",
        "makeFolderAndCopy(files_opt, '/content/src/optimizer')\n",
        "\n",
        "\n",
        "# Copy Python files to where they are needed and convert Python 2 to Python 3\n",
        "! python -m modernize -w '/content/validateFormat.py'\n",
        "! python -m modernize -w '/content/SharedTaskCommon.py'\n",
        "\n",
        "clear_output()"
      ],
      "metadata": {
        "cellView": "form",
        "id": "Daq40QRH1HC4"
      },
      "execution_count": null,
      "outputs": []
    },
    {
      "cell_type": "code",
      "source": [
        "#@title MaltOptimizer Phase 1\n",
        "\n",
        "mflens_data_fileID_maltOpt = '2AOe1p1d1r1c3'#@param['2AO', '2AOe1p1d1r1c3', '2AOe1p1d2r2c3', '2AOe1d2r2c3', '2TO', '2TOe1p1d1r1c3', '2UO', '3AO', '3AOe1p1d1r1c1', '3TO', '3UO']\n",
        "mflens_data_type = 'scramb'#@param['linear', 'scramb']\n",
        "opt_data = ''\n",
        "if mflens_data_type == 'linear':\n",
        "  opt_data = os.path.join(mflens_data_folder, mflens_data_fileID_maltOpt+'-lin', 'train-TextStruct_'+mflens_data_fileID_maltOpt+'-lin.conllu')\n",
        "else:\n",
        "  opt_data = os.path.join(mflens_data_folder, mflens_data_fileID_maltOpt, 'train-TextStruct_'+mflens_data_fileID_maltOpt+'.conllu')\n",
        "\n",
        "# Phase 1\n",
        "! java -jar {path_maltOptim} -p 1 -m {path_maltParser} -c {opt_data}"
      ],
      "metadata": {
        "colab": {
          "base_uri": "https://localhost:8080/"
        },
        "id": "PSLss-lbmtpx",
        "outputId": "36aaa84b-e6a5-4369-d39f-32827770ea3d",
        "cellView": "form"
      },
      "execution_count": null,
      "outputs": [
        {
          "output_type": "stream",
          "name": "stdout",
          "text": [
            "-----------------------------------------------------------------------------\n",
            "                   MaltOptimizer 1.0\n",
            "-----------------------------------------------------------------------------\n",
            "         Miguel Ballesteros* and Joakim Nivre**\n",
            "\n",
            "          *Complutense University of Madrid (Spain)  \n",
            "                **Uppsala University (Sweden)   \n",
            "-----------------------------------------------------------------------------\n",
            "PHASE 1: DATA ANALYSIS\n",
            "In order to optimize MaltParser for your training set, MaltOptimizer will \n",
            "first analyze the data and set some basic parameters.\n",
            "-----------------------------------------------------------------------------\n",
            "DATA VALIDATION\n",
            "Validating the CoNLL data format ...  (may take a few minutes)\n",
            "Your training set is in valid CoNLL format.\n",
            "-----------------------------------------------------------------------------\n",
            "DATA CHARACTERISTICS\n",
            "Your training set consists of 13726 sentences and 48047 tokens.\n",
            "Testing Java Heap ... \n",
            "MaltOptimizer has inferred that MaltParser needs at least 2 Gb of free memory.\n",
            "CPOSTAG and POSTAG are distinct in your training set.\n",
            "The LEMMA column is used in your training set.\n",
            "The FEATS column is used in your training set.\n",
            "Your training set contains a substantial amount of non-projective trees (40.15 %).\n",
            "Your training set does not contain unattached internal punctuation.\n",
            "Your training set has a unique DEPREL label for tokens where HEAD=0:ROOT.\n",
            "-----------------------------------------------------------------------------\n",
            "BASIC OPTIMIZATION SETUP \n",
            "Generating training and test files for optimization...\n",
            "Five cross-validation folds generated.\n",
            "Generated training set (49404 tokens) and devtest set (12368 tokens).\n",
            "Given that your data set is relatively small, we recommend using 5-fold \n",
            "cross-validation during subsequent optimization phases (-v cv).\n",
            "Testing the default settings ... (may take a few seconds)\n",
            "LAS with default settings: 30.27%\n",
            "-----------------------------------------------------------------------------\n",
            "MaltOptimizer has completed the analysis of your training set and saved the\n",
            "results for future use in /phase1_logFile.txt. Updated MaltParser options can be found\n",
            "in /phase1_optFile.txt. If you want to change any of these options, you should\n",
            "edit /phase1_optFile.txt before you start the next optimization phase.\n",
            "\n",
            "To proceed with Phase 2 (Parsing Algorithm) run the following command:\n",
            "java -jar MaltOptimizer.jar -p 2 -m <malt_path> -c <trainingCorpus>\n"
          ]
        }
      ]
    },
    {
      "cell_type": "code",
      "source": [
        "#@title MaltOptimizer Phase 2\n",
        "! java -jar {path_maltOptim} -p 2 -m {path_maltParser} -c {opt_data}"
      ],
      "metadata": {
        "colab": {
          "base_uri": "https://localhost:8080/"
        },
        "id": "XrKNYjPyAIre",
        "outputId": "08a2a572-5745-4528-c54e-a517e84a2e15"
      },
      "execution_count": null,
      "outputs": [
        {
          "output_type": "stream",
          "name": "stdout",
          "text": [
            "-----------------------------------------------------------------------------\n",
            "                   MaltOptimizer 1.0\n",
            "-----------------------------------------------------------------------------\n",
            "         Miguel Ballesteros* and Joakim Nivre**\n",
            "\n",
            "          *Complutense University of Madrid (Spain)  \n",
            "                **Uppsala University (Sweden)   \n",
            "-----------------------------------------------------------------------------\n",
            "PHASE 2: PARSING ALGORITHM SELECTION\n",
            "\n",
            "MaltOptimizer found in Phase 1 that your training set contains\n",
            "a substantial amount of non-projective trees and will therefore \n",
            "only try non-projective algorithms.\n",
            "\n",
            "Testing the non-projective algorithms ...\n",
            "\n",
            "               CovingtonNonProjective --vs-- StackLazy\n",
            "                          /                     \\\n",
            "                         /                       \\\n",
            "                        /                         \\\n",
            "                       /                           \\\n",
            "                      /                             \\\n",
            "                     /                               \\\n",
            "                    /                                 \\\n",
            "               NivreEager+PP             StackEager --vs-- StackProjective+PP\n",
            "                    |                                  |\n",
            "                    |                                  |\n",
            "         CovingtonProjective+PP                 NivreStandard+PP\n",
            "\n",
            "\n",
            "Testing the Covington-Non-Projective algorithm ...\n",
            "New best algorithm: covnonproj\n",
            "Incremental LAS improvement: + 1.269% (31.54%)\n",
            "Testing the StackLazy algorithm ...\n",
            "Testing the NivreEager algorithm with pseudo-projective parsing (PP) ...\n",
            "Best Non-Projective algorithm: CovingtonNonProjective\n",
            "\n",
            "-----------------------------------------------------------------------------\n",
            "MaltOptimizer found that the best parsing algorithm is: covnonproj\n",
            "Testing the Covington-Non-Projective algorithm ...\n",
            "New allow_shift option: true\n",
            "Incremental LAS improvement: + 0.140% (31.68%)\n",
            "Incremental improvement over the baseline at the end of Phase 2: +1.410% (31.68%) \n",
            "-----------------------------------------------------------------------------\n",
            "MaltOptimizer has completed the parsing algorithm selection phase for your\n",
            "training set and saved the results for future use in phase2_logFile.txt. \n",
            "Updated MaltParser options can be found in phase2_optFile.txt. If you want\n",
            "to change any of these options, you should edit phase2_optFile.txt before.\n",
            "you start the next optimization phase.\n",
            "\n",
            "To proceed with Phase 3 (Feature Selection) run the following command:\n",
            "java -jar MaltOptimizer.jar -p 3 -m <malt_path> -c <trainingCorpus>\n"
          ]
        }
      ]
    },
    {
      "cell_type": "code",
      "source": [
        "#@title MaltOptimizer Phase 3\n",
        "! java -jar {path_maltOptim} -p 3 -m {path_maltParser} -c {opt_data}"
      ],
      "metadata": {
        "colab": {
          "base_uri": "https://localhost:8080/"
        },
        "id": "2jo4bQOmBmRT",
        "outputId": "4ff5d6df-f098-4af9-b2ee-677bcd00e684"
      },
      "execution_count": null,
      "outputs": [
        {
          "output_type": "stream",
          "name": "stdout",
          "text": [
            "-----------------------------------------------------------------------------\n",
            "                   MaltOptimizer 1.0\n",
            "-----------------------------------------------------------------------------\n",
            "         Miguel Ballesteros* and Joakim Nivre**\n",
            "\n",
            "          *Complutense University of Madrid (Spain)  \n",
            "                **Uppsala University (Sweden)   \n",
            "-----------------------------------------------------------------------------\n",
            "PHASE 3: FEATURE SELECTION\n",
            "\n",
            "MaltOptimizer is going to perform the following feature selection experiments:\n",
            "1. Tune the window of POSTAG n-grams over the parser state.\n",
            "2. Tune the window of FORM features over the parser state.\n",
            "3. Tune DEPREL and POSTAG features over the partially built dependency tree.\n",
            "4. Add POSTAG and FORM features over the input string.\n",
            "5. Add CPOSTAG, FEATS, and LEMMA features if available.\n",
            "6. Add conjunctions of POSTAG and FORM features.\n",
            "-----------------------------------------------------------------------------\n",
            "1. Tuning the window of POSTAG n-grams ... \n",
            "\n",
            "  rm InputColumn(POSTAG,Stack[2])\n",
            "  add InputColumn(POSTAG, Stack[3])\n",
            "  rm InputColumn(POSTAG,Lookahead[2])\n",
            "  add InputColumn(POSTAG, Lookahead[3])\n",
            "  rm InputColumn(POSTAG,Input[0])\n",
            "  add InputColumn(POSTAG, Input[1])\n",
            "AlgunoEncaja:true\n",
            "  add Merge3(InputColumn(POSTAG, Stack[0]), InputColumn(POSTAG, Input[0]),InputColumn(POSTAG, LookAhead[0]))\n",
            "\n",
            "Best feature model: StackSwap.xml\n",
            "-----------------------------------------------------------------------------\n",
            "2. Tuning the window of FORM features ... \n",
            "\n",
            "  rm InputColumn(FORM,Stack[1])\n",
            "  add InputColumn(FORM, Stack[2])\n",
            "  rm InputColumn(FORM,Lookahead[0])\n",
            "  add InputColumn(FORM, Lookahead[1])\n",
            "  add InputColumn(FORM, head(Stack[0]))\n",
            "\n",
            "AlgunoEncaja:false\n",
            "\n",
            "Best feature model: StackSwap.xml\n",
            "-----------------------------------------------------------------------------\n",
            "3. Tuning dependency tree features ... \n",
            "\n",
            "  rm Merge3(InputColumn(POSTAG, Stack[0]), OutputColumn(DEPREL, ldep(Stack[0])), OutputColumn(DEPREL, rdep(Stack[0])))\n",
            "  rm Merge3(InputColumn(POSTAG, Stack[1]), OutputColumn(DEPREL, ldep(Stack[1])), OutputColumn(DEPREL, rdep(Stack[1])))\n",
            "  add InputColumn(POSTAG, ldep(Stack[0]))\n",
            "  add InputColumn(POSTAG, rdep(Stack[0]))\n",
            "  add InputColumn(POSTAG, ldep(Stack[1]))\n",
            "\n",
            "Best feature model: StackSwap.xml\n",
            "-----------------------------------------------------------------------------\n",
            "4. Adding string features ... \n",
            "\n",
            "  add InputColumn(POSTAG,pred(Stack[0]))\n",
            "  add InputColumn(POSTAG,succ(Stack[0]))\n",
            "  add InputColumn(POSTAG,pred(Stack[1]))\n",
            "  add InputColumn(POSTAG,succ(Stack[1]))\n",
            "\n",
            "Best feature model: StackSwap.xml\n",
            "-----------------------------------------------------------------------------\n",
            "5. Adding CPOSTAG, FEATS, and LEMMA features ... \n",
            "\n",
            "Adding CPOSTAG features ...\n",
            "  add InputColumn(CPOSTAG, Stack[0])\n",
            "  add InputColumn(CPOSTAG, Stack[1])\n",
            "\n",
            "Adding LEMMA features ...\n",
            "  add InputColumn(LEMMA, Stack[0])\n",
            "  add InputColumn(LEMMA, Stack[1])\n",
            "\n",
            "Adding FEATS features ... \n",
            "  add Split(InputColumn(FEATS, Stack[0]),|)\n",
            "  add Split(InputColumn(FEATS, Stack[1]),|)\n",
            "\n",
            "Best feature model: StackSwap.xml\n",
            "-----------------------------------------------------------------------------\n",
            "6. Adding conjunctions of POSTAG and FORM features... \n",
            "\n",
            "  add Merge(InputColumn(POSTAG, Lookahead[0]), InputColumn(FORM, Lookahead[0]))\n",
            "  add Merge(InputColumn(POSTAG, Stack[1]), InputColumn(FORM, Lookahead[0])\n",
            "  add Merge(InputColumn(POSTAG, Stack[1]), InputColumn(FORM, Stack[1])\n",
            "  add Merge(InputColumn(POSTAG, Stack[1]), InputColumn(FORM, Stack[2])\n",
            "  add Merge(InputColumn(POSTAG, Stack[0]), InputColumn(FORM, Lookahead[0]))\n",
            "  add Merge(InputColumn(POSTAG, Stack[0]), InputColumn(FORM, Stack[1]))\n",
            "  add Merge(InputColumn(POSTAG, Stack[0]), InputColumn(FORM, Stack[2]))\n",
            "  add Merge3(InputColumn(POSTAG, Stack[0]), InputColumn(POSTAG, Stack[1]), InputColumn(FORM, Lookahead[0]))\n",
            "  add Merge3(InputColumn(POSTAG, Stack[0]), InputColumn(POSTAG, Stack[1]), InputColumn(FORM, Stack[1]))\n",
            "  add Merge3(InputColumn(POSTAG, Stack[0]), InputColumn(POSTAG, Stack[1]), InputColumn(FORM, Stack[2]))\n",
            "\n",
            "Best feature model: StackSwap.xml\n",
            "-----------------------------------------------------------------------------\n",
            "MaltOptimizer has concluded feature selection and is going to tune the SVM cost parameter.\n",
            "\n",
            "Testing: C=0.01\n",
            "26.74(Best:31.68)\n",
            "Testing: C=0.2\n",
            "28.54(Best:31.68)\n",
            "Testing: C=0.4\n",
            "28.7(Best:31.68)\n",
            "Testing: C=0.6\n",
            "28.79(Best:31.68)\n",
            "Testing: C=0.8\n",
            "28.63(Best:31.68)\n",
            "\n",
            "Best C value: 0.1\n",
            "Incremental improvement over the baseline at the end of Phase 3: + 1.410% (31.68)\n",
            "-----------------------------------------------------------------------------\n",
            "MaltOptimizer has completed the feature model testing phase using your training set,\n",
            "it saved the results for future use in phase3_logFile.txt. Updated MaltParser \n",
            "options can be found in phase3_optFile.txt.\n",
            "\n"
          ]
        }
      ]
    }
  ],
  "metadata": {
    "colab": {
      "provenance": [],
      "include_colab_link": true
    },
    "kernelspec": {
      "display_name": "Python 3",
      "name": "python3"
    },
    "language_info": {
      "name": "python"
    }
  },
  "nbformat": 4,
  "nbformat_minor": 0
}